{
 "cells": [
  {
   "cell_type": "code",
   "execution_count": 8,
   "id": "db539c0c",
   "metadata": {},
   "outputs": [],
   "source": [
    "# Just an example array to visualise \n",
    "\n",
    "example_array = [[1,0,0,0,0],\n",
    "                             [1,0,0,0,1],\n",
    "                             [0,0,1,1,0],\n",
    "                             [0,1,0,0,0],\n",
    "                             [0,1,0,0,1]]\n",
    "\n",
    "#Initial thoughts\n",
    "\n",
    "#Could use a function to check which adjacent rows are 1's and which are zeros on individual points in the array. Then we need to store this information somehow \n",
    "\n",
    "#So essentially need to check 8 different directions as to whether they are 1's or 0's, then store the result of each direction check somewhere.\n",
    "#That is, store it for the individual point that you are talking about \n",
    "\n",
    "#The trouble is though, not recounting the 'islands', it would be easy to check if there are adjacent 1's, but how do we know that all of the connections themselves \n",
    "#...connect\n",
    "\n",
    "#Perhaps we could put conditionals on the resultant direction 'matrix' that forms at each point, that is, conditional with the adjacent direction matrices\n",
    "\n",
    "#So this function that determines if there's a True result for any of the possible directions would intake the position in the array as its argument and probably the array itself\n",
    "\n",
    "# i.e., like:               def direction_check(array, row, col):\n",
    "    \n",
    "\n",
    "#A nested for loop could probably be used to navigate the array\n",
    "\n",
    "#e.g. for i in array:\n",
    "            # for j in i:\n",
    "    \n",
    "#This then labels the array as a matrix of the following form\n",
    "\n",
    "#[............................]i=1\n",
    "#[............................]i=2\n",
    "#     ...\n",
    "#[...........................]i=k-1\n",
    "#[j=1, j=2,...j=n]i=k\n",
    "\n",
    "# for a matrix/array of k rows and n columns \n",
    "\n",
    "# Let's look at a simple example\n",
    "\n",
    "#[1,2,3,4] i=1\n",
    "#[1,2,3,4] i=2\n",
    "#[1,2,3,4] i=3\n",
    "\n",
    "#where 1, 2, 3, 4 are j in each i column \n",
    "\n",
    "#so for example, in order to get from i=1, j=1 to i = 1, j =2, then this speaks for itself, and we need to convey to the array that we want too reach j=1+1\n",
    "#Hence we simply add an integer to shift riight/down in the j and i directions respectively, and we minus an integer to shift left/up in the \n",
    "#j and i directions respectively!\n",
    "\n",
    "#Given a particular point on the matrix, you can use the i, j notation to the find what the corresponding row and columns are of the adjacent points. \n",
    "#Then since we can then refer to those points directly, we can check if they are 1's or 0's too\n",
    "#However, I am still unsure as to how the program will 'know' that the islands are connected. \n",
    "#Plus if we iterate through the array we need to mark the points already visited somehow maybe?\n",
    "\n",
    "#What we need, to check the surroundind areas, is whatever the index will be at that point\n",
    "\n",
    "#So, we need the current index (row or col) then add/subtract\n",
    "\n",
    "#We need then to store the index of the adjacent points somehow\n",
    "\n",
    "#and we want to continue if the next point found is 1\n",
    "\n",
    "#then we need to keep repeating the process somehow on the surrounding points...\n",
    "\n",
    "#get another identical function to repeat the process?\n",
    "#################################....................................\n"
   ]
  },
  {
   "cell_type": "code",
   "execution_count": 9,
   "id": "e63e85fe",
   "metadata": {},
   "outputs": [],
   "source": [
    "\n",
    "\n",
    "#Reminder: what we actually want to do is check all the directions of a point, one by one, and then move on to the next point if its a 1.\n",
    "\n",
    "#The current program is not updating anything when it passes, the points need to be marked once visted, so we could change the number from 1/0 to a 2 if its been checked\n",
    "\n",
    "#Let's also think about how the overall structure of the program will work\n",
    "\n",
    "#So, we will have a function that will count the number of islands.\n",
    "\n",
    "#We also have a function that will continue to activate itself as long as it continues to find another 1 that has not already been converted into a 2\n",
    "\n",
    "#The counting function will have some nested for loop that will iterate through all of the points\n",
    "\n",
    "#It must do this since our function that finds the 1's only initiates from a particular row,column and terminates once it reaches the end of the 1's\n",
    "\n",
    "#The counting function must also therefore check if there is initially a 1 present at the point otherwise it will treat 0's as the starting point of an islands if there are\n",
    "#...adjacent 1's \n",
    "\n",
    "#It might be better to make the counting function now so that the other function can be tested on it \n",
    "\n"
   ]
  },
  {
   "cell_type": "code",
   "execution_count": 10,
   "id": "ec634f88",
   "metadata": {},
   "outputs": [],
   "source": [
    "def count_islands2(sea):\n",
    "    islands = 0\n",
    "    for i in sea:\n",
    "        for j in i:\n",
    "            if sea[i][j] == 1:\n",
    "                check_area2(sea, i, j)\n",
    "                islands += 1\n",
    "    return islands\n",
    "\n",
    "#This way every time the function is executed  then the island tally increases, which is what we want, because the island\n",
    "#... function will only execute once for a particular island!\n",
    "\n",
    "#Unfortunately, because these two functions will be synergetic, it will be hard to tell which one will be the issue if there is a problem\n",
    "\n",
    "#Back to the other function now. "
   ]
  },
  {
   "cell_type": "code",
   "execution_count": 11,
   "id": "32f490bb",
   "metadata": {},
   "outputs": [],
   "source": [
    "#It might be easier to just loop through the different directions and check whether each one is a 1 than creating some conditional flow problem.\n",
    "\n",
    "#So essentially, given an initial row and column, we want to iterate through the different possible directions and check whether those directions have 1's. \n",
    "#If they do, then we want to repeat the function in those directions - and also mark the points that have been checked\n",
    "\n",
    "\n",
    "#So essentially, we want to loop through the surrounding indicies and check if the value at each index is a 1\n",
    "\n",
    "#We therefore need a list of indicies based on the parameter indicies that are put into the function\n"
   ]
  },
  {
   "cell_type": "code",
   "execution_count": 12,
   "id": "2fe35259",
   "metadata": {},
   "outputs": [
    {
     "ename": "TypeError",
     "evalue": "list indices must be integers or slices, not list",
     "output_type": "error",
     "traceback": [
      "\u001b[1;31m---------------------------------------------------------------------------\u001b[0m",
      "\u001b[1;31mTypeError\u001b[0m                                 Traceback (most recent call last)",
      "\u001b[1;32m~\\AppData\\Local\\Temp/ipykernel_5924/442265236.py\u001b[0m in \u001b[0;36m<module>\u001b[1;34m\u001b[0m\n\u001b[0;32m     13\u001b[0m             \u001b[0mcheck_area\u001b[0m\u001b[1;33m(\u001b[0m\u001b[0marray\u001b[0m\u001b[1;33m,\u001b[0m\u001b[0madjacent_row\u001b[0m\u001b[1;33m,\u001b[0m\u001b[0madjacent_col\u001b[0m\u001b[1;33m)\u001b[0m\u001b[1;33m\u001b[0m\u001b[1;33m\u001b[0m\u001b[0m\n\u001b[0;32m     14\u001b[0m \u001b[1;33m\u001b[0m\u001b[0m\n\u001b[1;32m---> 15\u001b[1;33m \u001b[0mcount_islands2\u001b[0m\u001b[1;33m(\u001b[0m\u001b[0mexample_array\u001b[0m\u001b[1;33m)\u001b[0m\u001b[1;33m\u001b[0m\u001b[1;33m\u001b[0m\u001b[0m\n\u001b[0m\u001b[0;32m     16\u001b[0m \u001b[1;33m\u001b[0m\u001b[0m\n",
      "\u001b[1;32m~\\AppData\\Local\\Temp/ipykernel_5924/1251912052.py\u001b[0m in \u001b[0;36mcount_islands2\u001b[1;34m(sea)\u001b[0m\n\u001b[0;32m      3\u001b[0m     \u001b[1;32mfor\u001b[0m \u001b[0mi\u001b[0m \u001b[1;32min\u001b[0m \u001b[0msea\u001b[0m\u001b[1;33m:\u001b[0m\u001b[1;33m\u001b[0m\u001b[1;33m\u001b[0m\u001b[0m\n\u001b[0;32m      4\u001b[0m         \u001b[1;32mfor\u001b[0m \u001b[0mj\u001b[0m \u001b[1;32min\u001b[0m \u001b[0mi\u001b[0m\u001b[1;33m:\u001b[0m\u001b[1;33m\u001b[0m\u001b[1;33m\u001b[0m\u001b[0m\n\u001b[1;32m----> 5\u001b[1;33m             \u001b[1;32mif\u001b[0m \u001b[0msea\u001b[0m\u001b[1;33m[\u001b[0m\u001b[0mi\u001b[0m\u001b[1;33m]\u001b[0m\u001b[1;33m[\u001b[0m\u001b[0mj\u001b[0m\u001b[1;33m]\u001b[0m \u001b[1;33m==\u001b[0m \u001b[1;36m1\u001b[0m\u001b[1;33m:\u001b[0m\u001b[1;33m\u001b[0m\u001b[1;33m\u001b[0m\u001b[0m\n\u001b[0m\u001b[0;32m      6\u001b[0m                 \u001b[0mcheck_area2\u001b[0m\u001b[1;33m(\u001b[0m\u001b[0msea\u001b[0m\u001b[1;33m,\u001b[0m \u001b[0mi\u001b[0m\u001b[1;33m,\u001b[0m \u001b[0mj\u001b[0m\u001b[1;33m)\u001b[0m\u001b[1;33m\u001b[0m\u001b[1;33m\u001b[0m\u001b[0m\n\u001b[0;32m      7\u001b[0m                 \u001b[0mislands\u001b[0m \u001b[1;33m+=\u001b[0m \u001b[1;36m1\u001b[0m\u001b[1;33m\u001b[0m\u001b[1;33m\u001b[0m\u001b[0m\n",
      "\u001b[1;31mTypeError\u001b[0m: list indices must be integers or slices, not list"
     ]
    }
   ],
   "source": [
    "#if we dont set the array value as another number then the function will not know that the point has been checked\n",
    "#and the process could repeat indefinetely\n",
    "\n",
    "def check_area(array, row, col):\n",
    "    array[row][col] == 2\n",
    "    \n",
    "    directions = [-1, 0, 1]\n",
    "    \n",
    "    for i in directions:\n",
    "        adjacent_row = row+ i\n",
    "        adjacent_col = col + i\n",
    "        if A[adjacent_row][adjacent_col] == 1:\n",
    "            check_area(array,adjacent_row,adjacent_col)\n",
    "            \n",
    "count_islands2(example_array)\n",
    "    \n"
   ]
  },
  {
   "cell_type": "code",
   "execution_count": 13,
   "id": "6e7b21a8",
   "metadata": {},
   "outputs": [],
   "source": [
    "#Okay so some issues are being caused with the counting function\n",
    "\n",
    "#I've also realised that this will only check in the (-1, -1) (0,0) and (1,1) directions.\n",
    "\n",
    "#In order to check in all directions we need to seperate the direction inputs for the loop so that we can have combinations such as (-1, 1) i.e., different direction values in the row and col directions\n",
    "\n",
    "#So can try using two lists..."
   ]
  },
  {
   "cell_type": "code",
   "execution_count": 14,
   "id": "deead266",
   "metadata": {},
   "outputs": [],
   "source": [
    "def check_area2(array, row, col):\n",
    "    array[row][col] == 2\n",
    "    d = [row + 0, row + 0, row - 1, row + 1, row + 1, row - 1, row - 1, row + 1]\n",
    "    f = [col + 1, col - 1, col - 0, col + 0, col + 1, col - 1, col + 1, col - 1]\n",
    "    for n in d:\n",
    "        adjacent_row = n\n",
    "    for x in f:\n",
    "        adjacent_col = x\n",
    "    if array[adjacent_row][adjacent_col] == 1:\n",
    "        check_area2(array, adjacent_row, adjacent_col)\n",
    "        \n",
    "#Okay I don't see any current issues with this. Let's try it \n",
    "\n",
    "        "
   ]
  },
  {
   "cell_type": "code",
   "execution_count": 15,
   "id": "1f1b9f83",
   "metadata": {},
   "outputs": [
    {
     "ename": "TypeError",
     "evalue": "list indices must be integers or slices, not list",
     "output_type": "error",
     "traceback": [
      "\u001b[1;31m---------------------------------------------------------------------------\u001b[0m",
      "\u001b[1;31mTypeError\u001b[0m                                 Traceback (most recent call last)",
      "\u001b[1;32m~\\AppData\\Local\\Temp/ipykernel_5924/176845239.py\u001b[0m in \u001b[0;36m<module>\u001b[1;34m\u001b[0m\n\u001b[1;32m----> 1\u001b[1;33m \u001b[0mcount_islands2\u001b[0m\u001b[1;33m(\u001b[0m\u001b[0mexample_array\u001b[0m\u001b[1;33m)\u001b[0m\u001b[1;33m\u001b[0m\u001b[1;33m\u001b[0m\u001b[0m\n\u001b[0m",
      "\u001b[1;32m~\\AppData\\Local\\Temp/ipykernel_5924/1251912052.py\u001b[0m in \u001b[0;36mcount_islands2\u001b[1;34m(sea)\u001b[0m\n\u001b[0;32m      3\u001b[0m     \u001b[1;32mfor\u001b[0m \u001b[0mi\u001b[0m \u001b[1;32min\u001b[0m \u001b[0msea\u001b[0m\u001b[1;33m:\u001b[0m\u001b[1;33m\u001b[0m\u001b[1;33m\u001b[0m\u001b[0m\n\u001b[0;32m      4\u001b[0m         \u001b[1;32mfor\u001b[0m \u001b[0mj\u001b[0m \u001b[1;32min\u001b[0m \u001b[0mi\u001b[0m\u001b[1;33m:\u001b[0m\u001b[1;33m\u001b[0m\u001b[1;33m\u001b[0m\u001b[0m\n\u001b[1;32m----> 5\u001b[1;33m             \u001b[1;32mif\u001b[0m \u001b[0msea\u001b[0m\u001b[1;33m[\u001b[0m\u001b[0mi\u001b[0m\u001b[1;33m]\u001b[0m\u001b[1;33m[\u001b[0m\u001b[0mj\u001b[0m\u001b[1;33m]\u001b[0m \u001b[1;33m==\u001b[0m \u001b[1;36m1\u001b[0m\u001b[1;33m:\u001b[0m\u001b[1;33m\u001b[0m\u001b[1;33m\u001b[0m\u001b[0m\n\u001b[0m\u001b[0;32m      6\u001b[0m                 \u001b[0mcheck_area2\u001b[0m\u001b[1;33m(\u001b[0m\u001b[0msea\u001b[0m\u001b[1;33m,\u001b[0m \u001b[0mi\u001b[0m\u001b[1;33m,\u001b[0m \u001b[0mj\u001b[0m\u001b[1;33m)\u001b[0m\u001b[1;33m\u001b[0m\u001b[1;33m\u001b[0m\u001b[0m\n\u001b[0;32m      7\u001b[0m                 \u001b[0mislands\u001b[0m \u001b[1;33m+=\u001b[0m \u001b[1;36m1\u001b[0m\u001b[1;33m\u001b[0m\u001b[1;33m\u001b[0m\u001b[0m\n",
      "\u001b[1;31mTypeError\u001b[0m: list indices must be integers or slices, not list"
     ]
    }
   ],
   "source": [
    "count_islands2(example_array)"
   ]
  },
  {
   "cell_type": "code",
   "execution_count": 16,
   "id": "30fee27a",
   "metadata": {},
   "outputs": [],
   "source": [
    "#Counting function still having some issues"
   ]
  },
  {
   "cell_type": "code",
   "execution_count": 17,
   "id": "1eb1d5a3",
   "metadata": {},
   "outputs": [],
   "source": [
    "#I think the i,j are not being passed into the if statement as integers, they are being passed in as lists, so just need to make them numbers\n",
    "\n",
    "def count_islands3(sea):\n",
    "    islands = 0\n",
    "    for i in range(len(sea)):\n",
    "        for j in range(len(sea[0])):\n",
    "            if sea[i][j] == 1:\n",
    "                check_area2(sea, i, j)\n",
    "                islands += 1\n",
    "    return islands\n",
    "\n"
   ]
  },
  {
   "cell_type": "code",
   "execution_count": 18,
   "id": "46c1de65",
   "metadata": {},
   "outputs": [
    {
     "ename": "IndexError",
     "evalue": "list index out of range",
     "output_type": "error",
     "traceback": [
      "\u001b[1;31m---------------------------------------------------------------------------\u001b[0m",
      "\u001b[1;31mIndexError\u001b[0m                                Traceback (most recent call last)",
      "\u001b[1;32m~\\AppData\\Local\\Temp/ipykernel_5924/225987881.py\u001b[0m in \u001b[0;36m<module>\u001b[1;34m\u001b[0m\n\u001b[1;32m----> 1\u001b[1;33m \u001b[0mcount_islands3\u001b[0m\u001b[1;33m(\u001b[0m\u001b[0mexample_array\u001b[0m\u001b[1;33m)\u001b[0m\u001b[1;33m\u001b[0m\u001b[1;33m\u001b[0m\u001b[0m\n\u001b[0m",
      "\u001b[1;32m~\\AppData\\Local\\Temp/ipykernel_5924/726389203.py\u001b[0m in \u001b[0;36mcount_islands3\u001b[1;34m(sea)\u001b[0m\n\u001b[0;32m      6\u001b[0m         \u001b[1;32mfor\u001b[0m \u001b[0mj\u001b[0m \u001b[1;32min\u001b[0m \u001b[0mrange\u001b[0m\u001b[1;33m(\u001b[0m\u001b[0mlen\u001b[0m\u001b[1;33m(\u001b[0m\u001b[0msea\u001b[0m\u001b[1;33m[\u001b[0m\u001b[1;36m0\u001b[0m\u001b[1;33m]\u001b[0m\u001b[1;33m)\u001b[0m\u001b[1;33m)\u001b[0m\u001b[1;33m:\u001b[0m\u001b[1;33m\u001b[0m\u001b[1;33m\u001b[0m\u001b[0m\n\u001b[0;32m      7\u001b[0m             \u001b[1;32mif\u001b[0m \u001b[0msea\u001b[0m\u001b[1;33m[\u001b[0m\u001b[0mi\u001b[0m\u001b[1;33m]\u001b[0m\u001b[1;33m[\u001b[0m\u001b[0mj\u001b[0m\u001b[1;33m]\u001b[0m \u001b[1;33m==\u001b[0m \u001b[1;36m1\u001b[0m\u001b[1;33m:\u001b[0m\u001b[1;33m\u001b[0m\u001b[1;33m\u001b[0m\u001b[0m\n\u001b[1;32m----> 8\u001b[1;33m                 \u001b[0mcheck_area2\u001b[0m\u001b[1;33m(\u001b[0m\u001b[0msea\u001b[0m\u001b[1;33m,\u001b[0m \u001b[0mi\u001b[0m\u001b[1;33m,\u001b[0m \u001b[0mj\u001b[0m\u001b[1;33m)\u001b[0m\u001b[1;33m\u001b[0m\u001b[1;33m\u001b[0m\u001b[0m\n\u001b[0m\u001b[0;32m      9\u001b[0m                 \u001b[0mislands\u001b[0m \u001b[1;33m+=\u001b[0m \u001b[1;36m1\u001b[0m\u001b[1;33m\u001b[0m\u001b[1;33m\u001b[0m\u001b[0m\n\u001b[0;32m     10\u001b[0m     \u001b[1;32mreturn\u001b[0m \u001b[0mislands\u001b[0m\u001b[1;33m\u001b[0m\u001b[1;33m\u001b[0m\u001b[0m\n",
      "\u001b[1;32m~\\AppData\\Local\\Temp/ipykernel_5924/1358755702.py\u001b[0m in \u001b[0;36mcheck_area2\u001b[1;34m(array, row, col)\u001b[0m\n\u001b[0;32m      7\u001b[0m     \u001b[1;32mfor\u001b[0m \u001b[0mx\u001b[0m \u001b[1;32min\u001b[0m \u001b[0mf\u001b[0m\u001b[1;33m:\u001b[0m\u001b[1;33m\u001b[0m\u001b[1;33m\u001b[0m\u001b[0m\n\u001b[0;32m      8\u001b[0m         \u001b[0madjacent_col\u001b[0m \u001b[1;33m=\u001b[0m \u001b[0mx\u001b[0m\u001b[1;33m\u001b[0m\u001b[1;33m\u001b[0m\u001b[0m\n\u001b[1;32m----> 9\u001b[1;33m     \u001b[1;32mif\u001b[0m \u001b[0marray\u001b[0m\u001b[1;33m[\u001b[0m\u001b[0madjacent_row\u001b[0m\u001b[1;33m]\u001b[0m\u001b[1;33m[\u001b[0m\u001b[0madjacent_col\u001b[0m\u001b[1;33m]\u001b[0m \u001b[1;33m==\u001b[0m \u001b[1;36m1\u001b[0m\u001b[1;33m:\u001b[0m\u001b[1;33m\u001b[0m\u001b[1;33m\u001b[0m\u001b[0m\n\u001b[0m\u001b[0;32m     10\u001b[0m         \u001b[0mcheck_area2\u001b[0m\u001b[1;33m(\u001b[0m\u001b[0marray\u001b[0m\u001b[1;33m,\u001b[0m \u001b[0madjacent_row\u001b[0m\u001b[1;33m,\u001b[0m \u001b[0madjacent_col\u001b[0m\u001b[1;33m)\u001b[0m\u001b[1;33m\u001b[0m\u001b[1;33m\u001b[0m\u001b[0m\n\u001b[0;32m     11\u001b[0m \u001b[1;33m\u001b[0m\u001b[0m\n",
      "\u001b[1;31mIndexError\u001b[0m: list index out of range"
     ]
    }
   ],
   "source": [
    "count_islands3(example_array)"
   ]
  },
  {
   "cell_type": "code",
   "execution_count": 19,
   "id": "91c8c688",
   "metadata": {},
   "outputs": [],
   "source": [
    "#Counting function may be working, but now having issues with the area checking function"
   ]
  },
  {
   "cell_type": "code",
   "execution_count": 20,
   "id": "21e11a7d",
   "metadata": {},
   "outputs": [],
   "source": [
    "def check_area3(array, row, col):\n",
    "    array[row][col] == 2\n",
    "    d = [row + 0, row + 0, row - 1, row + 1, row + 1, row - 1, row - 1, row + 1]\n",
    "    f = [col + 1, col - 1, col - 0, col + 0, col + 1, col - 1, col + 1, col - 1]\n",
    "    for n in d:\n",
    "        adjacent_row = n\n",
    "    for x in f:\n",
    "        adjacent_col = x\n",
    "    if array[adjacent_row][adjacent_col] and INDEX_CHECKING_FUNCTION()== 1:\n",
    "        check_area2(array, adjacent_row, adjacent_col)\n",
    "        \n",
    "#I think we're getting an index error, potentially the function is checking for an index outside of the array?\n",
    "\n",
    "#Could maybe extend the length of the array by adding additional zeros\n",
    "#That would just shuffle the problem along\n",
    "\n",
    "#need to perform a check that the point in question (i.e., the next point along (since the current point checked by the counting function will not count outside the array))\n",
    "#is actually within the array.\n",
    "\n",
    "#This check probably deserves its own function"
   ]
  },
  {
   "cell_type": "code",
   "execution_count": 21,
   "id": "66fb1998",
   "metadata": {},
   "outputs": [],
   "source": [
    "#[............................]i=1\n",
    "#[............................]i=2\n",
    "#     ...\n",
    "#[...........................]i=k-1\n",
    "#[j=1, j=2,...j=n]i=k\n",
    "\n",
    "#The index cannot be negative or higher than the total length of the array in either respective direction\n",
    "\n",
    "#So lets try this\n",
    "\n",
    "def index_check(array,row,col):\n",
    "    row_length = len(array)\n",
    "    col_length = len(array[0])\n",
    "    if row < 0 or col < 0 or col >= col_length or row >= row_length:\n",
    "        return False\n",
    "    else:\n",
    "        return True\n",
    "    \n",
    "#Where I have included the col value being the same length as the array as a False because the index begins at 0\n",
    "\n",
    "\n",
    "#Now let's try it all together \n",
    "\n",
    "def check_area4(array, row, col):\n",
    "    array[row][col] == 2\n",
    "    d = [row + 0, row + 0, row - 1, row + 1, row + 1, row - 1, row - 1, row + 1]\n",
    "    f = [col + 1, col - 1, col - 0, col + 0, col + 1, col - 1, col + 1, col - 1]\n",
    "    for n in d:\n",
    "        adjacent_row = n\n",
    "    for x in f:\n",
    "        adjacent_col = x\n",
    "    if array[adjacent_row][adjacent_col] == 1 and index_check(array, adjacent_row, adjacent_col):\n",
    "        check_area4(array, adjacent_row, adjacent_col)\n",
    "    "
   ]
  },
  {
   "cell_type": "code",
   "execution_count": 22,
   "id": "c0746ae9",
   "metadata": {},
   "outputs": [],
   "source": [
    "def count_islands4(sea):\n",
    "    islands = 0\n",
    "    for i in range(len(sea)):\n",
    "        for j in range(len(sea[0])):\n",
    "            if sea[i][j] == 1:\n",
    "                check_area4(sea, i, j)\n",
    "                islands += 1\n",
    "    return islands"
   ]
  },
  {
   "cell_type": "code",
   "execution_count": 23,
   "id": "edb3ed20",
   "metadata": {},
   "outputs": [
    {
     "ename": "IndexError",
     "evalue": "list index out of range",
     "output_type": "error",
     "traceback": [
      "\u001b[1;31m---------------------------------------------------------------------------\u001b[0m",
      "\u001b[1;31mIndexError\u001b[0m                                Traceback (most recent call last)",
      "\u001b[1;32m~\\AppData\\Local\\Temp/ipykernel_5924/1921011780.py\u001b[0m in \u001b[0;36m<module>\u001b[1;34m\u001b[0m\n\u001b[1;32m----> 1\u001b[1;33m \u001b[0mcount_islands4\u001b[0m\u001b[1;33m(\u001b[0m\u001b[0mexample_array\u001b[0m\u001b[1;33m)\u001b[0m\u001b[1;33m\u001b[0m\u001b[1;33m\u001b[0m\u001b[0m\n\u001b[0m",
      "\u001b[1;32m~\\AppData\\Local\\Temp/ipykernel_5924/81516670.py\u001b[0m in \u001b[0;36mcount_islands4\u001b[1;34m(sea)\u001b[0m\n\u001b[0;32m      4\u001b[0m         \u001b[1;32mfor\u001b[0m \u001b[0mj\u001b[0m \u001b[1;32min\u001b[0m \u001b[0mrange\u001b[0m\u001b[1;33m(\u001b[0m\u001b[0mlen\u001b[0m\u001b[1;33m(\u001b[0m\u001b[0msea\u001b[0m\u001b[1;33m[\u001b[0m\u001b[1;36m0\u001b[0m\u001b[1;33m]\u001b[0m\u001b[1;33m)\u001b[0m\u001b[1;33m)\u001b[0m\u001b[1;33m:\u001b[0m\u001b[1;33m\u001b[0m\u001b[1;33m\u001b[0m\u001b[0m\n\u001b[0;32m      5\u001b[0m             \u001b[1;32mif\u001b[0m \u001b[0msea\u001b[0m\u001b[1;33m[\u001b[0m\u001b[0mi\u001b[0m\u001b[1;33m]\u001b[0m\u001b[1;33m[\u001b[0m\u001b[0mj\u001b[0m\u001b[1;33m]\u001b[0m \u001b[1;33m==\u001b[0m \u001b[1;36m1\u001b[0m\u001b[1;33m:\u001b[0m\u001b[1;33m\u001b[0m\u001b[1;33m\u001b[0m\u001b[0m\n\u001b[1;32m----> 6\u001b[1;33m                 \u001b[0mcheck_area4\u001b[0m\u001b[1;33m(\u001b[0m\u001b[0msea\u001b[0m\u001b[1;33m,\u001b[0m \u001b[0mi\u001b[0m\u001b[1;33m,\u001b[0m \u001b[0mj\u001b[0m\u001b[1;33m)\u001b[0m\u001b[1;33m\u001b[0m\u001b[1;33m\u001b[0m\u001b[0m\n\u001b[0m\u001b[0;32m      7\u001b[0m                 \u001b[0mislands\u001b[0m \u001b[1;33m+=\u001b[0m \u001b[1;36m1\u001b[0m\u001b[1;33m\u001b[0m\u001b[1;33m\u001b[0m\u001b[0m\n\u001b[0;32m      8\u001b[0m     \u001b[1;32mreturn\u001b[0m \u001b[0mislands\u001b[0m\u001b[1;33m\u001b[0m\u001b[1;33m\u001b[0m\u001b[0m\n",
      "\u001b[1;32m~\\AppData\\Local\\Temp/ipykernel_5924/3154771634.py\u001b[0m in \u001b[0;36mcheck_area4\u001b[1;34m(array, row, col)\u001b[0m\n\u001b[0;32m     30\u001b[0m     \u001b[1;32mfor\u001b[0m \u001b[0mx\u001b[0m \u001b[1;32min\u001b[0m \u001b[0mf\u001b[0m\u001b[1;33m:\u001b[0m\u001b[1;33m\u001b[0m\u001b[1;33m\u001b[0m\u001b[0m\n\u001b[0;32m     31\u001b[0m         \u001b[0madjacent_col\u001b[0m \u001b[1;33m=\u001b[0m \u001b[0mx\u001b[0m\u001b[1;33m\u001b[0m\u001b[1;33m\u001b[0m\u001b[0m\n\u001b[1;32m---> 32\u001b[1;33m     \u001b[1;32mif\u001b[0m \u001b[0marray\u001b[0m\u001b[1;33m[\u001b[0m\u001b[0madjacent_row\u001b[0m\u001b[1;33m]\u001b[0m\u001b[1;33m[\u001b[0m\u001b[0madjacent_col\u001b[0m\u001b[1;33m]\u001b[0m \u001b[1;33m==\u001b[0m \u001b[1;36m1\u001b[0m \u001b[1;32mand\u001b[0m \u001b[0mindex_check\u001b[0m\u001b[1;33m(\u001b[0m\u001b[0marray\u001b[0m\u001b[1;33m,\u001b[0m \u001b[0madjacent_row\u001b[0m\u001b[1;33m,\u001b[0m \u001b[0madjacent_col\u001b[0m\u001b[1;33m)\u001b[0m\u001b[1;33m:\u001b[0m\u001b[1;33m\u001b[0m\u001b[1;33m\u001b[0m\u001b[0m\n\u001b[0m\u001b[0;32m     33\u001b[0m         \u001b[0mcheck_area4\u001b[0m\u001b[1;33m(\u001b[0m\u001b[0marray\u001b[0m\u001b[1;33m,\u001b[0m \u001b[0madjacent_row\u001b[0m\u001b[1;33m,\u001b[0m \u001b[0madjacent_col\u001b[0m\u001b[1;33m)\u001b[0m\u001b[1;33m\u001b[0m\u001b[1;33m\u001b[0m\u001b[0m\n\u001b[0;32m     34\u001b[0m \u001b[1;33m\u001b[0m\u001b[0m\n",
      "\u001b[1;31mIndexError\u001b[0m: list index out of range"
     ]
    }
   ],
   "source": [
    "count_islands4(example_array)"
   ]
  },
  {
   "cell_type": "code",
   "execution_count": 24,
   "id": "2dcc4144",
   "metadata": {},
   "outputs": [],
   "source": [
    "#Still doesnt seem to like the index in the check_area function\n",
    "\n",
    "def check_area5(array, row, col):\n",
    "    array[row][col] == 2\n",
    "    d = [row + 0, row + 0, row - 1, row + 1, row + 1, row - 1, row - 1, row + 1]\n",
    "    f = [col + 1, col - 1, col - 0, col + 0, col + 1, col - 1, col + 1, col - 1]\n",
    "    for x in range(8):\n",
    "        if index_check(array, d[x], f[x]) and array[d[x]][f[x]] == 1:\n",
    "            check_area5(array, d[x], f[x])\n",
    "    "
   ]
  },
  {
   "cell_type": "code",
   "execution_count": 25,
   "id": "886dce71",
   "metadata": {},
   "outputs": [],
   "source": [
    "def count_islands5(sea):\n",
    "    islands = 0\n",
    "    for i in range(len(sea)):\n",
    "        for j in range(len(sea[0])):\n",
    "            if sea[i][j] == 1:\n",
    "                check_area5(sea, i, j)\n",
    "                islands += 1\n",
    "    return islands"
   ]
  },
  {
   "cell_type": "code",
   "execution_count": null,
   "id": "fa159abd",
   "metadata": {},
   "outputs": [],
   "source": [
    "count_islands5(example_array)"
   ]
  },
  {
   "cell_type": "code",
   "execution_count": null,
   "id": "cc21636c",
   "metadata": {},
   "outputs": [],
   "source": [
    "#might be getting confused with the parameter names in different functions?\n",
    "\n",
    "def area_check_final(array, r, c):\n",
    "    array[r][c] = 2\n",
    "    d = [r + 0, r + 0, r - 1, r + 1, r + 1, r - 1, r - 1, r + 1]\n",
    "    f = [c + 1, c - 1, c - 0, c + 0, c + 1, c - 1, c + 1, c - 1]\n",
    "\n",
    "    for x in range(8):\n",
    "        if index_check_final(array, d[x], f[x]) and array[d[x]][f[x]] == 1:\n",
    "            area_check_final(array, d[x], f[x])\n",
    "            \n",
    "def count_islands_final(sea):\n",
    "    islands = 0\n",
    "    for i in range(len(sea)):\n",
    "        for j in range(len(sea[0])):\n",
    "            if sea[i][j] == 1:\n",
    "                area_check_final(sea, i, j)\n",
    "                islands += 1\n",
    "    return islands\n",
    "\n",
    "def index_check_final(array,row,col):\n",
    "    row_length = len(array)\n",
    "    col_length = len(array[0])\n",
    "    if row < 0 or col < 0 or col >= col_length or row >= row_length:\n",
    "        return False\n",
    "    else:\n",
    "        return True\n",
    "    "
   ]
  },
  {
   "cell_type": "code",
   "execution_count": null,
   "id": "7a793c98",
   "metadata": {},
   "outputs": [],
   "source": [
    "count_islands_final(example_array)"
   ]
  },
  {
   "cell_type": "code",
   "execution_count": null,
   "id": "01a9f305",
   "metadata": {},
   "outputs": [],
   "source": []
  }
 ],
 "metadata": {
  "kernelspec": {
   "display_name": "Python 3 (ipykernel)",
   "language": "python",
   "name": "python3"
  },
  "language_info": {
   "codemirror_mode": {
    "name": "ipython",
    "version": 3
   },
   "file_extension": ".py",
   "mimetype": "text/x-python",
   "name": "python",
   "nbconvert_exporter": "python",
   "pygments_lexer": "ipython3",
   "version": "3.9.7"
  }
 },
 "nbformat": 4,
 "nbformat_minor": 5
}
